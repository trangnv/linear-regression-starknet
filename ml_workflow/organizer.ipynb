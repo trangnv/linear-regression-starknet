{
 "cells": [
  {
   "cell_type": "markdown",
   "metadata": {},
   "source": [
    "Organizer steps\n",
    "- Prepare test data offchain\n",
    "- Calculate merkle root of test data ofchain\n",
    "- submit merkle root\n",
    "- reveal test data onchain\n",
    "- call calculate for evaluation"
   ]
  },
  {
   "cell_type": "code",
   "execution_count": null,
   "metadata": {},
   "outputs": [],
   "source": []
  }
 ],
 "metadata": {
  "language_info": {
   "name": "python"
  },
  "orig_nbformat": 4
 },
 "nbformat": 4,
 "nbformat_minor": 2
}
