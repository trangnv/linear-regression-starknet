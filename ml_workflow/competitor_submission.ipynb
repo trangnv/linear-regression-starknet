{
 "cells": [
  {
   "cell_type": "markdown",
   "metadata": {},
   "source": [
    "- Load training data\n",
    "- Train model\n",
    "- Get model weights\n",
    "- Compute model hash\n",
    "- submit model hash\n",
    "- "
   ]
  },
  {
   "cell_type": "code",
   "execution_count": null,
   "metadata": {},
   "outputs": [],
   "source": []
  }
 ],
 "metadata": {
  "kernelspec": {
   "display_name": "Python 3.9.6 64-bit ('3.9.6')",
   "language": "python",
   "name": "python3"
  },
  "language_info": {
   "name": "python",
   "version": "3.9.6"
  },
  "orig_nbformat": 4,
  "vscode": {
   "interpreter": {
    "hash": "2bf1149070b2fa92fc99b476d818ef3fa3f974b4d5ab6e09cc184e8a2e0e6f55"
   }
  }
 },
 "nbformat": 4,
 "nbformat_minor": 2
}
